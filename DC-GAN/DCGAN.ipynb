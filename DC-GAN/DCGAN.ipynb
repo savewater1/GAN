{
 "cells": [
  {
   "cell_type": "code",
   "execution_count": 1,
   "metadata": {},
   "outputs": [],
   "source": [
    "import datetime\n",
    "import os\n",
    "\n",
    "current_time = datetime.datetime.now().strftime(\"%Y%m%d-%H%M%S\")\n",
    "os.makedirs(os.path.dirname(\"logs/\" + current_time + \"/\"), exist_ok=True)"
   ]
  },
  {
   "cell_type": "code",
   "execution_count": 2,
   "metadata": {},
   "outputs": [],
   "source": [
    "import logging\n",
    "\n",
    "logger = logging.getLogger(\"gan\")\n",
    "logger.setLevel(logging.DEBUG)\n",
    "fh = logging.FileHandler(\"logs/\" + current_time + \"/gan.log\")\n",
    "fh.setLevel(logging.DEBUG)\n",
    "sh = logging.StreamHandler()\n",
    "sh.setLevel(logging.INFO)\n",
    "formatter = logging.Formatter(\"%(levelname)s - %(message)s\")\n",
    "fh.setFormatter(formatter)\n",
    "sh.setFormatter(formatter)\n",
    "logger.addHandler(fh)\n",
    "logger.addHandler(sh)\n",
    "logger.debug(\"Starting..\")"
   ]
  },
  {
   "cell_type": "code",
   "execution_count": 3,
   "metadata": {},
   "outputs": [
    {
     "data": {
      "text/plain": [
       "Reusing TensorBoard on port 6006 (pid 21940), started 0:04:11 ago. (Use '!kill 21940' to kill it.)"
      ]
     },
     "metadata": {},
     "output_type": "display_data"
    },
    {
     "data": {
      "text/html": [
       "\n",
       "      <iframe id=\"tensorboard-frame-c540427d2d5dea20\" width=\"100%\" height=\"800\" frameborder=\"0\">\n",
       "      </iframe>\n",
       "      <script>\n",
       "        (function() {\n",
       "          const frame = document.getElementById(\"tensorboard-frame-c540427d2d5dea20\");\n",
       "          const url = new URL(\"/\", window.location);\n",
       "          url.port = 6006;\n",
       "          frame.src = url;\n",
       "        })();\n",
       "      </script>\n",
       "  "
      ],
      "text/plain": [
       "<IPython.core.display.HTML object>"
      ]
     },
     "metadata": {},
     "output_type": "display_data"
    }
   ],
   "source": [
    "# Tensorboard extension\n",
    "%load_ext tensorboard\n",
    "\n",
    "logger.debug(\"Starting Tensorboard..\")\n",
    "%tensorboard --logdir logs/"
   ]
  },
  {
   "cell_type": "code",
   "execution_count": 4,
   "metadata": {},
   "outputs": [
    {
     "name": "stderr",
     "output_type": "stream",
     "text": [
      "INFO - TensorFlow version: 2.0.0\n"
     ]
    }
   ],
   "source": [
    "import numpy as np\n",
    "import matplotlib.pyplot as plt\n",
    "import tensorflow as tf\n",
    "import tensorflow.keras as keras\n",
    "from tensorflow.keras.datasets import mnist\n",
    "from tensorflow.keras.layers import LeakyReLU\n",
    "from packaging import version\n",
    "\n",
    "logger.info(\"TensorFlow version: %s\", tf.__version__)\n",
    "assert version.parse(tf.__version__).release[0] >= 2, \"This notebook requires TensorFlow 2.0 or above.\""
   ]
  },
  {
   "cell_type": "code",
   "execution_count": 5,
   "metadata": {},
   "outputs": [],
   "source": [
    "if tf.test.is_built_with_cuda():\n",
    "    gpu = tf.test.is_gpu_available()\n",
    "if not gpu:\n",
    "    logger.debug(\"GPU Acceleration not available!!\")"
   ]
  },
  {
   "cell_type": "code",
   "execution_count": 6,
   "metadata": {},
   "outputs": [],
   "source": [
    "logger.debug(\"Global Variables..\")\n",
    "BATCH_SIZE = 32\n",
    "FEAT_DIM = 100\n",
    "EPOCHS = 200\n",
    "logger.debug(\"Batch Size = %d\", BATCH_SIZE)\n",
    "logger.debug(\"Dimension of images after flattening as used for training = %d\", IMG_DIM)\n",
    "logger.debug(\"Dimension of noise input used by generator to generate fakes = %d\", FEAT_DIM)\n",
    "logger.debug(\"Number of training epochs = %d\", IMG_DIM)"
   ]
  },
  {
   "cell_type": "code",
   "execution_count": 7,
   "metadata": {},
   "outputs": [
    {
     "name": "stderr",
     "output_type": "stream",
     "text": [
      "INFO - Number of training examples: 60000\n",
      "INFO - Dimension of each example: (28, 28)\n",
      "INFO - Dtype of examples: uint8\n",
      "INFO - Max pixel value: 255\n",
      "INFO - Min pixel value: 0\n"
     ]
    }
   ],
   "source": [
    "logger.debug(\"Using MNIST dataset..\")\n",
    "(X_train, _), _ = mnist.load_data()\n",
    "logger.info(\"Number of training examples: %d\", X_train.shape[0])\n",
    "logger.info(\"Dimension of each example: %s\", X_train.shape[1:] if len(X_train.shape)>1 else 1)\n",
    "logger.info(\"Dtype of examples: %s\", X_train.dtype)\n",
    "logger.info(\"Max pixel value: %d\", X_train.max())\n",
    "logger.info(\"Min pixel value: %d\", X_train.min())"
   ]
  },
  {
   "cell_type": "code",
   "execution_count": 8,
   "metadata": {},
   "outputs": [
    {
     "name": "stderr",
     "output_type": "stream",
     "text": [
      "INFO - Range of X_train values: -1 to 1\n",
      "INFO - Shape of training data: 60000 x 784\n"
     ]
    }
   ],
   "source": [
    "logger.debug(\"Rescaling training values to lie between -1 and 1 (including both)..\")\n",
    "X_train = X_train.astype(float)\n",
    "X_train = (X_train-127.5)/127.5\n",
    "logger.info(\"Range of X_train values: %d to %d\", X_train.min(), X_train.max())\n",
    "\n",
    "logger.debug(\"Reshaping training data to add depth dimension in images..\")\n",
    "X_train = np.reshape(X_train, (*X_train.shape, 1))\n",
    "logger.info(\"Shape of training data: %d x %d x %d x %d\", X_train.shape[0], X_train.shape[1], X_train.shape[2], X_train.shape[3])"
   ]
  },
  {
   "cell_type": "code",
   "execution_count": 9,
   "metadata": {},
   "outputs": [],
   "source": [
    "logger.debug(\"Mini-Batching and Shuffling dataset..\")\n",
    "train_ds = tf.data.Dataset.from_tensor_slices((X_train)).shuffle(10000).batch(BATCH_SIZE)"
   ]
  },
  {
   "cell_type": "code",
   "execution_count": 10,
   "metadata": {},
   "outputs": [],
   "source": [
    "logger.debug(\"Defining the model for discriminator..\")\n",
    "des_in = keras.layers.Input(shape = (28, 28, 1))\n",
    "des = keras.layers.Conv2D(16, (3, 3), activation = LeakyReLU(0.2), kernel_initializer = \"he_normal\")(des_in)\n",
    "des = keras.layers.Dropout(0.3)(des)\n",
    "des = keras.layers.Dense(512, activation = LeakyReLU(0.2), kernel_initializer = \"he_normal\")(des)\n",
    "des = keras.layers.Dropout(0.3)(des)\n",
    "des = keras.layers.Dense(256, activation = LeakyReLU(0.2), kernel_initializer = \"he_normal\")(des)\n",
    "des = keras.layers.Dropout(0.3)(des)\n",
    "des = keras.layers.Dense(256, activation = LeakyReLU(0.2), kernel_initializer = \"he_normal\")(des)\n",
    "des = keras.layers.Dropout(0.3)(des)\n",
    "des_out = keras.layers.Dense(1, activation = keras.activations.sigmoid, kernel_initializer = \"he_normal\")(des)\n",
    "discriminator  = keras.Model(inputs = des_in, outputs = des_out)\n",
    "logger.debug(\"Discriminator Summary\")\n",
    "discriminator.summary(print_fn = logger.debug)"
   ]
  },
  {
   "cell_type": "code",
   "execution_count": 11,
   "metadata": {},
   "outputs": [],
   "source": [
    "logger.debug(\"Defining generator model..\")\n",
    "gen_in = keras.layers.Input(shape = (100, ))\n",
    "gen = keras.layers.Dense(256, activation = LeakyReLU(0.2), kernel_initializer = \"he_normal\")(gen_in)\n",
    "gen = keras.layers.Dropout(0.3)(gen)\n",
    "gen = keras.layers.Dense(512, activation = LeakyReLU(0.2), kernel_initializer = \"he_normal\")(gen)\n",
    "gen = keras.layers.Dropout(0.3)(gen)\n",
    "gen = keras.layers.Dense(1024, activation = LeakyReLU(0.2), kernel_initializer = \"he_normal\")(gen)\n",
    "gen = keras.layers.Dropout(0.3)(gen)\n",
    "gen_out = keras.layers.Dense(784, activation = keras.activations.tanh, kernel_initializer = \"he_normal\")(gen)\n",
    "generator = keras.Model(inputs = gen_in, outputs = gen_out)\n",
    "logger.debug(\"Generator Summary\")\n",
    "generator.summary(print_fn = logger.debug)"
   ]
  },
  {
   "cell_type": "code",
   "execution_count": 12,
   "metadata": {},
   "outputs": [
    {
     "name": "stderr",
     "output_type": "stream",
     "text": [
      "INFO - Visualization of untrained generator output\n"
     ]
    },
    {
     "data": {
      "text/plain": [
       "<matplotlib.image.AxesImage at 0x23bf5054f48>"
      ]
     },
     "execution_count": 12,
     "metadata": {},
     "output_type": "execute_result"
    },
    {
     "data": {
      "image/png": "[encoded data removed]",
      "text/plain": [
       "<Figure size 432x288 with 1 Axes>"
      ]
     },
     "metadata": {
      "needs_background": "light"
     },
     "output_type": "display_data"
    }
   ],
   "source": [
    "logger.info(\"Visualization of untrained generator output\")\n",
    "noise = tf.random.normal(shape = (1, FEAT_DIM))\n",
    "generated_img = generator(noise, training = False)\n",
    "plt.imshow(tf.reshape(generated_img[0], [28,28,1])[:,:,0], cmap='gray')"
   ]
  },
  {
   "cell_type": "code",
   "execution_count": 13,
   "metadata": {},
   "outputs": [],
   "source": [
    "logger.debug(\"Defining separate optimizers for discriminator and generator..\")\n",
    "logger.debug(\"Using ADAM optimizer for both generator and discriminator!\")\n",
    "generator_optimizer = keras.optimizers.Adam(lr = 0.0002)\n",
    "discriminator_optimizer = keras.optimizers.Adam(lr = 0.0002)\n",
    "\n",
    "logger.debug(\"Using BinaryCrossentropy for loss function\")\n",
    "cross_entropy = keras.losses.BinaryCrossentropy()\n",
    "\n",
    "# Storing the mean loss\n",
    "discriminator_loss = tf.keras.metrics.Mean(name='discriminator_loss')\n",
    "generator_loss = tf.keras.metrics.Mean(name='generator_loss')"
   ]
  },
  {
   "cell_type": "code",
   "execution_count": 14,
   "metadata": {},
   "outputs": [],
   "source": [
    "# def get_discriminator_loss(real_pred, fake_pred):\n",
    "#     real_loss = cross_entropy(tf.ones_like(real_pred), real_pred)\n",
    "#     fake_loss = cross_entropy(tf.zeros_like(fake_pred), fake_pred)\n",
    "#     total_loss = real_loss + fake_loss\n",
    "#     return total_loss\n",
    "\n",
    "# def get_generator_loss(fake_pred):\n",
    "#     fake_loss = cross_entropy(tf.ones_like(fake_pred), fake_pred)\n",
    "#     return fake_loss"
   ]
  },
  {
   "cell_type": "code",
   "execution_count": 15,
   "metadata": {},
   "outputs": [],
   "source": [
    "# # Training function for Discriminator\n",
    "# @tf.function\n",
    "# def train(real):\n",
    "#     noise = tf.random.normal(shape = (32, 100))\n",
    "#     with tf.GradientTape() as gen_tape, tf.GradientTape() as dis_tape:\n",
    "#         fake = generator(noise, training = True)\n",
    "#         real_pred = discriminator(real, training = True)\n",
    "# #         real_loss = cross_entropy(tf.ones_like(real_pred), real_pred)\n",
    "#         fake_pred = discriminator(fake, training = True)\n",
    "# #         dis_fake_loss = cross_entropy(tf.zeros_like(fake_pred), fake_pred)\n",
    "# #         gen_fake_loss = cross_entropy(tf.ones_like(fake_pred), fake_pred)\n",
    "# #         total_loss = real_loss + dis_fake_loss\n",
    "#         dis_loss = get_discriminator_loss(real_pred, fake_pred)\n",
    "#         gen_loss = get_generator_loss(fake_pred)\n",
    "#     dis_gradient = dis_tape.gradient(dis_loss, discriminator.trainable_variables)\n",
    "#     gen_gradient = gen_tape.gradient(gen_loss, generator.trainable_variables)\n",
    "#     discriminator_optimizer.apply_gradients(zip(dis_gradient, discriminator.trainable_variables))\n",
    "    \n",
    "#     generator_optimizer.apply_gradients(zip(gen_gradient, generator.trainable_variables))\n",
    "    \n",
    "#     discriminator_loss(dis_loss)\n",
    "#     generator_loss(gen_loss)"
   ]
  },
  {
   "cell_type": "code",
   "execution_count": 16,
   "metadata": {},
   "outputs": [],
   "source": [
    "# Training function for Discriminator\n",
    "@tf.function\n",
    "def train_discriminator(real):\n",
    "    noise = tf.random.normal(shape = (32, 100))\n",
    "    with tf.GradientTape() as tape:\n",
    "        fake = generator(noise, training = False)\n",
    "        real_pred = discriminator(real, training = True)\n",
    "        real_loss = cross_entropy(tf.ones_like(real_pred), real_pred)\n",
    "        fake_pred = discriminator(fake, training = True)\n",
    "        fake_loss = cross_entropy(tf.zeros_like(fake_pred), fake_pred)\n",
    "        total_loss = real_loss + fake_loss\n",
    "    gradient = tape.gradient(total_loss, discriminator.trainable_variables)\n",
    "    discriminator_optimizer.apply_gradients(zip(gradient, discriminator.trainable_variables))\n",
    "    \n",
    "    discriminator_loss(total_loss)"
   ]
  },
  {
   "cell_type": "code",
   "execution_count": 17,
   "metadata": {},
   "outputs": [],
   "source": [
    "# Training function for Generator\n",
    "@tf.function\n",
    "def train_generator():\n",
    "    noise = tf.random.normal(shape = (32, 100))\n",
    "    with tf.GradientTape() as tape:\n",
    "        fake = generator(noise, training = True)\n",
    "        fake_pred = discriminator(fake, training = False)\n",
    "        fake_loss = cross_entropy(tf.ones_like(fake_pred), fake_pred)\n",
    "    gradient = tape.gradient(fake_loss, generator.trainable_variables)\n",
    "    generator_optimizer.apply_gradients(zip(gradient, generator.trainable_variables))\n",
    "    \n",
    "    generator_loss(fake_loss)"
   ]
  },
  {
   "cell_type": "code",
   "execution_count": 18,
   "metadata": {},
   "outputs": [],
   "source": [
    "train_log_dir = 'logs/' + current_time + '/train'\n",
    "train_summary_writer = tf.summary.create_file_writer(train_log_dir)"
   ]
  },
  {
   "cell_type": "code",
   "execution_count": null,
   "metadata": {},
   "outputs": [
    {
     "name": "stdout",
     "output_type": "stream",
     "text": [
      "WARNING:tensorflow:Layer dense is casting an input tensor from dtype float64 to the layer's dtype of float32, which is new behavior in TensorFlow 2.  The layer has dtype float32 because it's dtype defaults to floatx.\n",
      "\n",
      "If you intended to run this layer in float32, you can safely ignore this warning. If in doubt, this warning is likely only an issue if you are porting a TensorFlow 1.X model to TensorFlow 2.\n",
      "\n",
      "To change all layers to have dtype float64 by default, call `tf.keras.backend.set_floatx('float64')`. To change just this layer, pass dtype='float64' to the layer constructor. If you are the author of this layer, you can disable autocasting by passing autocast=False to the base Layer constructor.\n",
      "\n"
     ]
    }
   ],
   "source": [
    "logger.debug(\"Beginning training..\")\n",
    "for epoch in range(EPOCHS):\n",
    "    for real in train_ds:\n",
    "#         train(real)\n",
    "        train_discriminator(real)\n",
    "        train_generator()\n",
    "    with train_summary_writer.as_default():\n",
    "        tf.summary.scalar('Discriminator loss', discriminator_loss.result(), step=epoch)\n",
    "        tf.summary.scalar('Generator loss', generator_loss.result(), step=epoch)\n",
    "    logger.debug(\"Epoch: %d - Discriminator loss: %f - Generator loss: %f\", epoch+1, discriminator_loss.result(), generator_loss.result())\n",
    "    discriminator_loss.reset_states()\n",
    "    generator_loss.reset_states()\n",
    "    if epoch%20 == 0:\n",
    "        fig, ax = plt.subplots(10, 10, figsize = (20, 20))\n",
    "        noise = tf.random.normal(shape = (100, 100))\n",
    "        generated_images = generator(noise, training = False)\n",
    "        generated_images = tf.reshape(generated_images, [100, 28, 28, 1])\n",
    "        for i in range(100):\n",
    "            ax[i//10, i%10].imshow(generated_images[i][:, :, 0], cmap = \"gray\")\n",
    "        plt.savefig(\"progress-\"+str(epoch)+\".png\")"
   ]
  },
  {
   "cell_type": "code",
   "execution_count": null,
   "metadata": {},
   "outputs": [],
   "source": [
    "fig, ax = plt.subplots(10, 10, figsize = (20, 20))\n",
    "noise = tf.random.normal(shape = (100, 100))\n",
    "generated_images = generator(noise, training = False)\n",
    "generated_images = tf.reshape(generated_images, [100, 28, 28, 1])\n",
    "for i in range(100):\n",
    "    ax[i//10, i%10].imshow(generated_images[i][:, :, 0], cmap = \"gray\")"
   ]
  }
 ],
 "metadata": {
  "kernelspec": {
   "display_name": "Python 3",
   "language": "python",
   "name": "python3"
  },
  "language_info": {
   "codemirror_mode": {
    "name": "ipython",
    "version": 3
   },
   "file_extension": ".py",
   "mimetype": "text/x-python",
   "name": "python",
   "nbconvert_exporter": "python",
   "pygments_lexer": "ipython3",
   "version": "3.7.5"
  }
 },
 "nbformat": 4,
 "nbformat_minor": 4
}
